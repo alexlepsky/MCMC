{
 "cells": [
  {
   "cell_type": "code",
   "execution_count": 1,
   "metadata": {},
   "outputs": [],
   "source": [
    "import string\n",
    "import math\n",
    "import random"
   ]
  },
  {
   "cell_type": "code",
   "execution_count": 2,
   "metadata": {},
   "outputs": [],
   "source": [
    "def clear_message(text, stop_symbols):\n",
    "    text = text.lower()\n",
    "    return ''.join([i for i in text if i not in stop_symbols])\n",
    "\n",
    "\n",
    "def create_cipher_dict(cipher):\n",
    "    cipher_dict = {}\n",
    "    for i in range(len(alphabet)):\n",
    "        cipher_dict[alphabet[i]] = cipher[i]\n",
    "    return cipher_dict\n",
    "\n",
    "\n",
    "def reverse_cipher(cipher):\n",
    "    cipher_dict = create_cipher_dict(cipher)\n",
    "    reverse_dict = {value: key for key, value in cipher_dict.items()}\n",
    "    reversed_cipher = ''\n",
    "    for i in alphabet:\n",
    "        reversed_cipher += reverse_dict[i]\n",
    "    return reversed_cipher\n",
    "\n",
    "\n",
    "def create_ciphertext(text, cipher):\n",
    "    cipher_dict = create_cipher_dict(cipher)\n",
    "    text = list(text)\n",
    "    ciphertext = ''\n",
    "    for elem in text:\n",
    "        if elem in cipher_dict:\n",
    "            ciphertext += cipher_dict[elem]\n",
    "        else:\n",
    "            ciphertext += ' '\n",
    "    return ciphertext\n",
    "\n",
    "\n",
    "def compute_frequency_in_corpus(longtext_path):\n",
    "    duplets_frequency = {}\n",
    "    try:\n",
    "        with open(longtext_path) as f:\n",
    "            for line in f:\n",
    "                data = list(line.strip())\n",
    "                for i in range(len(data)-1):\n",
    "                    alpha_i = data[i].lower()\n",
    "                    alpha_j = data[i+1].lower()\n",
    "                    if alpha_i in alphabet and alpha_j in alphabet:\n",
    "                        key = alpha_i+alpha_j\n",
    "                        if key in duplets_frequency:\n",
    "                            duplets_frequency[key] += 1\n",
    "                        else:\n",
    "                            duplets_frequency[key] = 1\n",
    "    except:\n",
    "        with open(longtext_path, encoding='utf-8') as f:\n",
    "            for line in f:\n",
    "                data = list(line.strip())\n",
    "                for i in range(len(data)-1):\n",
    "                    alpha_i = data[i].lower()\n",
    "                    alpha_j = data[i+1].lower()\n",
    "                    if alpha_i in alphabet and alpha_j in alphabet:\n",
    "                        key = alpha_i+alpha_j\n",
    "                        if key in duplets_frequency:\n",
    "                            duplets_frequency[key] += 1\n",
    "                        else:\n",
    "                            duplets_frequency[key] = 1\n",
    "    return duplets_frequency\n",
    "\n",
    "\n",
    "def compute_frequency_in_ciphertext(text):\n",
    "    duplets_frequency = {}\n",
    "    data = list(text.strip())\n",
    "    for i in range(len(data)-1):\n",
    "        alpha_i = data[i]\n",
    "        alpha_j = data[i+1]\n",
    "        if alpha_i in alphabet and alpha_j in alphabet:\n",
    "            key = alpha_i+alpha_j\n",
    "        key = alpha_i+alpha_j\n",
    "        if key in duplets_frequency:\n",
    "            duplets_frequency[key] += 1\n",
    "        else:\n",
    "            duplets_frequency[key] = 1\n",
    "    return duplets_frequency\n",
    "\n",
    "\n",
    "def compute_score(text, cipher, duplets_frequency_in_corpus):\n",
    "    cipher_dict = create_cipher_dict(cipher)\n",
    "    decrypted_text = create_ciphertext(text, cipher)\n",
    "    duplets_frequency_in_ciphertext = compute_frequency_in_ciphertext(decrypted_text)\n",
    "    score = 0\n",
    "    for duplet, count in duplets_frequency_in_ciphertext.items():\n",
    "        if duplet in duplets_frequency_in_corpus:\n",
    "            score += count*math.log(duplets_frequency_in_corpus[duplet])\n",
    "    return score\n",
    "\n",
    "\n",
    "def generate_cipher(cipher):\n",
    "    pos1 = random.randint(0, len(list(cipher))-1)\n",
    "    pos2 = random.randint(0, len(list(cipher))-1)\n",
    "    if pos1 == pos2:\n",
    "        return generate_cipher(cipher)\n",
    "    else:\n",
    "        cipher = list(cipher)\n",
    "        cipher[pos1], cipher[pos2] = cipher[pos2], cipher[pos1]\n",
    "        return ''.join(cipher)\n",
    "\n",
    "\n",
    "def random_coin(p):\n",
    "    unif = random.uniform(0, 1)\n",
    "    if unif >= p:\n",
    "        return False\n",
    "    else:\n",
    "        return True\n",
    "\n",
    "\n",
    "def get_random_key():\n",
    "    str_var = list(alphabet)\n",
    "    random.shuffle(str_var)\n",
    "    random_key = ''.join(str_var)\n",
    "    return random_key\n",
    "\n",
    "\n",
    "def MCMC_decrypt(n_iter, cipher_text, duplets_frequency_in_corpus):\n",
    "    current_cipher = alphabet\n",
    "    best_state = ''\n",
    "    score = 0\n",
    "    for i in range(n_iter):\n",
    "        proposed_cipher = generate_cipher(current_cipher)\n",
    "        score_current_cipher = compute_score(\n",
    "            cipher_text, current_cipher, duplets_frequency_in_corpus)\n",
    "        score_proposed_cipher = compute_score(\n",
    "            cipher_text, proposed_cipher, duplets_frequency_in_corpus)\n",
    "        acceptance_probability = min(1, math.exp(\n",
    "            score_proposed_cipher-score_current_cipher))\n",
    "        if score_current_cipher > score:\n",
    "            best_state = current_cipher\n",
    "        if random_coin(acceptance_probability):\n",
    "            current_cipher = proposed_cipher\n",
    "        if i % 1000 == 0:\n",
    "            print('iter', i, ':', create_ciphertext(\n",
    "                cipher_text, current_cipher)[0:99])\n",
    "    return best_state"
   ]
  },
  {
   "cell_type": "code",
   "execution_count": 3,
   "metadata": {},
   "outputs": [],
   "source": [
    "alphabet = ' абвгдеёжзийклмнопрстуфхцчшщъыьэюя'\n",
    "cipher = 'мюное шхкьаёъыпивжлтзэбгйщчядрцуфс'\n",
    "\n",
    "stop_symbols = string.punctuation + '\\n\\xa0«»\\t—…'"
   ]
  },
  {
   "cell_type": "code",
   "execution_count": 4,
   "metadata": {},
   "outputs": [],
   "source": [
    "duplets_frequency_in_corpus = compute_frequency_in_corpus('corpus.txt')"
   ]
  },
  {
   "cell_type": "code",
   "execution_count": 5,
   "metadata": {},
   "outputs": [],
   "source": [
    "test_message = 'Англичане утверждают, что немецкий народ сопротивляется тотальным военным мерам правительства. Будто он хочет не тотальной войны, а капитуляции. Я спрашиваю вас: хотите ли вы тотальной войны? Хотите ли вы вести ее, даже если надо вести ее еще тотальнее и радикальнее, чем мы сегодня вообще можем себе представить? Фюрер ждет от нас таких свершений, которые затмят все, что было до сих пор. Мы хотим быть на высоте его требований. Мы гордимся им, а он должен иметь возможность гордиться нами <…> Нация готова ко всему. Фюрер приказал, мы следуем за ним. В этот час национального осмысления и внутреннего подъема мы еще вернее и нерушимее будем верить в победу. Мы видим победу в осязаемой близи, нам надо только протянуть руку и схватить ее. Мы должны найти в себе решимость поставить на службу ей абсолютно все. Таково веление времени. А потому наш лозунг: «Вставай, народ, да грядет буря!»'\n",
    "test_text = clear_message(test_message, stop_symbols)\n",
    "test_cipher = get_random_key()\n",
    "test_ciphertext = create_ciphertext(test_text, test_cipher)"
   ]
  },
  {
   "cell_type": "code",
   "execution_count": 6,
   "metadata": {},
   "outputs": [
    {
     "name": "stdout",
     "output_type": "stream",
     "text": [
      "iter 0 : тн яоютнпмхуьпрфэтзумюужмнпгпкбодмнтржэмйжиржуоьяцпуйцмужутяёнагмьжпннагмгпртгмиртьоупяёйуьтмчхэужм\n",
      "iter 1000 : ингдуйинаеытлавзриютейтоенасахбучениворе оквотулдпат петотидьняселоаннясесависеквилутадь тлиемыртое\n",
      "iter 2000 : инглуйина ытпавзриют йто насацшуч нивор еоквотуплдатед тотильняс поанняс савис квипутальетпи мырто \n",
      "iter 3000 : англичане ытдержвают что несецмий наров копротидлуетку тотальняс доенняс серас прадительктда бывто \n",
      "iter 4000 : англичане ытверждают что несефмий народ копротивлуетку тотальняс военняс серас правительктва быдто \n",
      "iter 5000 : англичане ытверждают что несефмий народ копротивлуетку тотальняс военняс серас правительктва быдто \n",
      "iter 6000 : англичане ытверждают что несефмий народ копротивлуетку тотальняс военняс серас правительктва быдто \n",
      "iter 7000 : англичане ытверждают что несешмий народ копротивлуетку тотальняс военняс серас правительктва быдто \n",
      "iter 8000 : англичане ытверждают что несецмий народ копротивлуетку тотальняс военняс серас правительктва быдто \n",
      "iter 9000 : англичане ытверждают что несешмий народ копротивлуетку тотальняс военняс серас правительктва быдто \n",
      "iter 10000 : англичане ытверждают что несешмий народ копротивлуетку тотальняс военняс серас правительктва быдто \n",
      "iter 11000 : англичане утверждают что немешкий народ сопротивляется тотальным военным мерам правительства будто \n",
      "iter 12000 : англичане утверждают что немецкий народ сопротивляется тотальным военным мерам правительства будто \n",
      "iter 13000 : англичане утверждают что немецкий народ сопротивляется тотальным военным мерам правительства будто \n",
      "iter 14000 : англичане утверждают что немешкий народ сопротивляется тотальным военным мерам правительства будто \n",
      "iter 15000 : англичане утверждают что немецкий народ сопротивляется тотальным военным мерам правительства будто \n",
      "iter 16000 : англичане утверждают что немешкий народ сопротивляется тотальным военным мерам правительства будто \n",
      "iter 17000 : англичане утверждают что немецкий народ сопротивляется тотальным военным мерам правительства будто \n",
      "iter 18000 : англичане утверждают что немешкий народ сопротивляется тотальным военным мерам правительства будто \n",
      "iter 19000 : англичане утверждают что немецкий народ сопротивляется тотальным военным мерам правительства будто \n",
      "\n",
      " MCMC decode: гыкёмйхьоюпсцш ниерфатжуябщзъэвдчл\n",
      "\n",
      " True decode: гыкёмйхьоюпсцш ниерфатжуябщзъэвдчл\n",
      "\n",
      " Decoded Text: англичане утверждают что немецкий народ сопротивляется тотальным военным мерам правительства будто он хочет не тотальной войны а капитуляции я спрашиваю вас хотите ли вы тотальной войны хотите ли вы вести ее даже если надо вести ее еще тотальнее и радикальнее чем мы сегодня вообще можем себе представить фюрер ждет от нас таких свершений которые затмят все что было до сих пор мы хотим быть на высоте его требований мы гордимся им а он должен иметь возможность гордиться нами  нация готова ко всему фюрер приказал мы следуем за ним в этот час национального осмысления и внутреннего подъема мы еще вернее и нерушимее будем верить в победу мы видим победу в осязаемой близи нам надо только протянуть руку и схватить ее мы должны найти в себе решимость поставить на службу ей абсолютно все таково веление времени а потому наш лозунг вставай народ да грядет буря\n"
     ]
    }
   ],
   "source": [
    "best_state = MCMC_decrypt(20000, test_ciphertext, duplets_frequency_in_corpus)\n",
    "print('\\n', 'MCMC decode:', best_state)\n",
    "print('\\n', 'True decode:', reverse_cipher(test_cipher))\n",
    "print('\\n', 'Decoded Text:', create_ciphertext(test_ciphertext, best_state))"
   ]
  },
  {
   "cell_type": "code",
   "execution_count": 7,
   "metadata": {},
   "outputs": [
    {
     "name": "stdout",
     "output_type": "stream",
     "text": [
      "iter 0 : щдшэсздбгдтиылъирдвсдпирвясндждягфгдогъзд бгдсынъьисздегясздргсдовяг биъьисзднтдбнёдщдыифвсиадшсвдс\n",
      "iter 1000 : ю чуть не залыдар от жарости к сехе ведь мне тлидгать шесть рет восемнадгать из ниб ю лахотай что т\n",
      "iter 2000 : я чуть не зарылам от бамости к сехе вель дне трилжать фесть мет воседналжать из ниг я рахотаю что т\n",
      "iter 3000 : я чуть не зарылад от шадости к себе вель мне трилжать фесть дет восемналжать из них я работаю что т\n",
      "iter 4000 : я чуть не зарылад от цадости к себе вель мне трилгать жесть дет восемналгать из них я работаю что т\n",
      "iter 5000 : я чуть не зарылад от шадости к себе вель мне трилгать жесть дет восемналгать из них я работаю что т\n",
      "iter 6000 : я чуть не зарылад от жадости к себе вель мне трилгать щесть дет восемналгать из них я работаю что т\n",
      "iter 7000 : я чуть не зарыдал от шалости к сеге ведь мне тридцать жесть лет восемнадцать из них я раготаю что т\n",
      "iter 8000 : я чуть не зарылад от жадости к себе вель мне трилгать фесть дет восемналгать из них я работаю что т\n",
      "iter 9000 : я чуть не зарылад от жадости к себе вель мне трилгать фесть дет восемналгать из них я работаю что т\n",
      "iter 10000 : я чуть не зарылад от жадости к себе вель мне трилгать щесть дет восемналгать из них я работаю что т\n",
      "iter 11000 : я чуть не зарылад от жадости к себе вель мне трилгать шесть дет восемналгать из них я работаю что т\n",
      "iter 12000 : я чуть не зарылад от жадости к себе вель мне трилгать щесть дет восемналгать из них я работаю что т\n",
      "iter 13000 : я чуть не зарылад от жадости к себе вель мне трилгать щесть дет восемналгать из них я работаю что т\n",
      "iter 14000 : я чуть не зарылад от жадости к себе вель мне трилгать щесть дет восемналгать из них я работаю что т\n",
      "iter 15000 : я чуть не зарыдал от шалости к себе ведь мне триджать щесть лет восемнаджать из них я работаю что т\n",
      "iter 16000 : я чуть не зарыдал от шалости к себе ведь мне триджать щесть лет восемнаджать из них я работаю что т\n",
      "iter 17000 : я чуть не зарыдал от галости к себе ведь мне триджать шесть лет восемнаджать из них я работаю что т\n",
      "iter 18000 : я чуть не зарыдал от шалости к себе ведь мне триджать фесть лет восемнаджать из них я работаю что т\n",
      "iter 19000 : я чуть не зарыдал от шалости к себе ведь мне триджать щесть лет восемнаджать из них я работаю что т\n",
      "\n",
      " MCMC decode: мюное фхкьаёщыпивжлтзэбгйъчядрцушс\n",
      "\n",
      " True decode: мюное шхкьаёъыпивжлтзэбгйщчядрцуфс\n",
      "\n",
      " Decoded Text: я чуть не зарыдал от жалости к себе ведь мне тридцать фесть лет восемнадцать из них я работаю что то зарабатываю покупаю владею как мне представлялось некоторой собственностью и в результате  один чемодан причем довольно скромного размера выходит я ниший как же это получилось\n"
     ]
    }
   ],
   "source": [
    "ciphertext = 'щдшэсздбгдтиылъирдвсдпирвясндждягфгдогъзд бгдсынъьисздегясздргсдовяг биъьисзднтдбнёдщдыифвсиадшсвдсвдтиыифислоиадмвжэмиадориъгаджижд бгдмыгъясиорщрвяздбгжвсвывцдявфясогббвясзадндодыгтэрзсисгддвънбдшг въибдмыншг дъвоврзбвдяжыв бвхвдыит гыидолёвънсдщдбнюнцджиждпгдусвдмврэшнрвяз'\n",
    "best_state = MCMC_decrypt(20000, ciphertext, duplets_frequency_in_corpus)\n",
    "print('\\n', 'MCMC decode:', best_state)\n",
    "print('\\n', 'True decode:', cipher)\n",
    "print('\\n', 'Decoded Text:', create_ciphertext(ciphertext, best_state))"
   ]
  },
  {
   "cell_type": "code",
   "execution_count": 8,
   "metadata": {},
   "outputs": [
    {
     "data": {
      "text/plain": [
       "2806.686026773373"
      ]
     },
     "execution_count": 8,
     "metadata": {},
     "output_type": "execute_result"
    }
   ],
   "source": [
    "compute_score(ciphertext, cipher, duplets_frequency_in_corpus)"
   ]
  },
  {
   "cell_type": "code",
   "execution_count": 9,
   "metadata": {},
   "outputs": [
    {
     "data": {
      "text/plain": [
       "2807.888364416493"
      ]
     },
     "execution_count": 9,
     "metadata": {},
     "output_type": "execute_result"
    }
   ],
   "source": [
    "compute_score(ciphertext, best_state, duplets_frequency_in_corpus)"
   ]
  }
 ],
 "metadata": {
  "kernelspec": {
   "display_name": "Python 3",
   "language": "python",
   "name": "python3"
  },
  "language_info": {
   "codemirror_mode": {
    "name": "ipython",
    "version": 3
   },
   "file_extension": ".py",
   "mimetype": "text/x-python",
   "name": "python",
   "nbconvert_exporter": "python",
   "pygments_lexer": "ipython3",
   "version": "3.7.3"
  }
 },
 "nbformat": 4,
 "nbformat_minor": 2
}
